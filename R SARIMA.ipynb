{
 "cells": [
  {
   "cell_type": "markdown",
   "id": "a02d631b",
   "metadata": {},
   "source": [
    "# ARIMA process and estimation with Rprogramming"
   ]
  },
  {
   "cell_type": "code",
   "execution_count": 12,
   "id": "56fe488d",
   "metadata": {},
   "outputs": [
    {
     "name": "stderr",
     "output_type": "stream",
     "text": [
      "also installing the dependencies 'cli', 'gtable', 'lifecycle', 'rlang', 'scales', 'vctrs', 'ggplot2'\n",
      "\n"
     ]
    },
    {
     "name": "stdout",
     "output_type": "stream",
     "text": [
      "\n",
      "  There are binary versions available but the source versions are later:\n",
      "          binary source needs_compilation\n",
      "cli        2.5.0  3.6.1              TRUE\n",
      "gtable     0.3.0  0.3.3             FALSE\n",
      "lifecycle  1.0.0  1.0.3             FALSE\n",
      "rlang     0.4.11  1.1.0              TRUE\n",
      "scales     1.1.1  1.2.1             FALSE\n",
      "vctrs      0.3.8  0.6.1              TRUE\n",
      "ggplot2    3.3.3  3.4.1             FALSE\n",
      "forecast    8.14   8.21              TRUE\n",
      "\n",
      "  Binaries will be installed\n",
      "package 'cli' successfully unpacked and MD5 sums checked\n",
      "package 'rlang' successfully unpacked and MD5 sums checked\n"
     ]
    },
    {
     "name": "stderr",
     "output_type": "stream",
     "text": [
      "Warning message:\n",
      "\"cannot remove prior installation of package 'rlang'\"Warning message in file.copy(savedcopy, lib, recursive = TRUE):\n",
      "\"problème lors de la copie de C:\\Users\\julia\\anaconda32\\Lib\\R\\library\\00LOCK\\rlang\\libs\\x64\\rlang.dll vers C:\\Users\\julia\\anaconda32\\Lib\\R\\library\\rlang\\libs\\x64\\rlang.dll: Permission denied\"Warning message:\n",
      "\"restored 'rlang'\""
     ]
    },
    {
     "name": "stdout",
     "output_type": "stream",
     "text": [
      "package 'vctrs' successfully unpacked and MD5 sums checked\n",
      "package 'forecast' successfully unpacked and MD5 sums checked\n",
      "\n",
      "The downloaded binary packages are in\n",
      "\tC:\\Users\\Public\\Documents\\Wondershare\\CreatorTemp\\RtmpuWWSua\\downloaded_packages\n"
     ]
    },
    {
     "name": "stderr",
     "output_type": "stream",
     "text": [
      "installing the source packages 'gtable', 'lifecycle', 'scales', 'ggplot2'\n",
      "\n",
      "Warning message in install.packages(\"forecast\", repos = \"http://cran.us.r-project.org\"):\n",
      "\"installation of package 'lifecycle' had non-zero exit status\"Warning message in install.packages(\"forecast\", repos = \"http://cran.us.r-project.org\"):\n",
      "\"installation of package 'gtable' had non-zero exit status\"Warning message in install.packages(\"forecast\", repos = \"http://cran.us.r-project.org\"):\n",
      "\"installation of package 'scales' had non-zero exit status\"Warning message in install.packages(\"forecast\", repos = \"http://cran.us.r-project.org\"):\n",
      "\"installation of package 'ggplot2' had non-zero exit status\""
     ]
    }
   ],
   "source": [
    "install.packages(\"forecast\", repos='http://cran.us.r-project.org')"
   ]
  },
  {
   "cell_type": "code",
   "execution_count": 14,
   "id": "ca7fd833",
   "metadata": {},
   "outputs": [
    {
     "name": "stderr",
     "output_type": "stream",
     "text": [
      "Warning message:\n",
      "\"package 'forecast' was built under R version 3.6.3\""
     ]
    },
    {
     "ename": "ERROR",
     "evalue": "Error: package or namespace load failed for 'forecast' in loadNamespace(j <- i[[1L]], c(lib.loc, .libPaths()), versionCheck = vI[[j]]):\n there is no package called 'ggplot2'\n",
     "output_type": "error",
     "traceback": [
      "Error: package or namespace load failed for 'forecast' in loadNamespace(j <- i[[1L]], c(lib.loc, .libPaths()), versionCheck = vI[[j]]):\n there is no package called 'ggplot2'\nTraceback:\n",
      "1. library(forecast)",
      "2. tryCatch({\n .     attr(package, \"LibPath\") <- which.lib.loc\n .     ns <- loadNamespace(package, lib.loc)\n .     env <- attachNamespace(ns, pos = pos, deps, exclude, include.only)\n . }, error = function(e) {\n .     P <- if (!is.null(cc <- conditionCall(e))) \n .         paste(\" in\", deparse(cc)[1L])\n .     else \"\"\n .     msg <- gettextf(\"package or namespace load failed for %s%s:\\n %s\", \n .         sQuote(package), P, conditionMessage(e))\n .     if (logical.return) \n .         message(paste(\"Error:\", msg), domain = NA)\n .     else stop(msg, call. = FALSE, domain = NA)\n . })",
      "3. tryCatchList(expr, classes, parentenv, handlers)",
      "4. tryCatchOne(expr, names, parentenv, handlers[[1L]])",
      "5. value[[3L]](cond)",
      "6. stop(msg, call. = FALSE, domain = NA)"
     ]
    }
   ],
   "source": [
    "library(forecast)\n",
    "\n",
    "set.seed(2023)"
   ]
  },
  {
   "cell_type": "markdown",
   "id": "2b429ac8",
   "metadata": {},
   "source": [
    "To simulate the process, we can use the simulate.Arima() function from the forecast library."
   ]
  },
  {
   "cell_type": "code",
   "execution_count": 5,
   "id": "5792330a",
   "metadata": {},
   "outputs": [
    {
     "ename": "ERROR",
     "evalue": "Error in simulate.Arima(model = list(ar = c(0.8), ma = c(0.6), seasonal = list(order = c(1, : impossible de trouver la fonction \"simulate.Arima\"\n",
     "output_type": "error",
     "traceback": [
      "Error in simulate.Arima(model = list(ar = c(0.8), ma = c(0.6), seasonal = list(order = c(1, : impossible de trouver la fonction \"simulate.Arima\"\nTraceback:\n"
     ]
    }
   ],
   "source": [
    "# Simulate the process\n",
    "arima_data <- simulate.Arima(model = list(ar = c(0.8), ma = c(0.6), \n",
    "                                           seasonal = list(order = c(1, 1, 0), period = 12),\n",
    "                                           include.mean = FALSE), n = 120)\n",
    "\n",
    "# Convert the data to a time series object\n",
    "arima_ts <- ts(arima_data, start = c(2000, 1), frequency = 12)"
   ]
  },
  {
   "cell_type": "markdown",
   "id": "f1272a39",
   "metadata": {},
   "source": [
    "### Plot the simulated data"
   ]
  },
  {
   "cell_type": "code",
   "execution_count": 6,
   "id": "c066aa11",
   "metadata": {},
   "outputs": [
    {
     "ename": "ERROR",
     "evalue": "Error in ggplot(): impossible de trouver la fonction \"ggplot\"\n",
     "output_type": "error",
     "traceback": [
      "Error in ggplot(): impossible de trouver la fonction \"ggplot\"\nTraceback:\n"
     ]
    }
   ],
   "source": [
    "# Plot the simulated data\n",
    "ggplot() +\n",
    "  geom_line(aes(x = index(arima_ts), y = arima_ts), color = \"blue\") +\n",
    "  labs(title = \"Simulated Seasonal ARIMA Process\",\n",
    "       x = \"Time\", y = \"Value\")"
   ]
  },
  {
   "cell_type": "markdown",
   "id": "3e813cf2",
   "metadata": {},
   "source": [
    "### Estimation"
   ]
  },
  {
   "cell_type": "code",
   "execution_count": 8,
   "id": "398bd616",
   "metadata": {},
   "outputs": [
    {
     "ename": "ERROR",
     "evalue": "Error in auto.arima(arima_ts): impossible de trouver la fonction \"auto.arima\"\n",
     "output_type": "error",
     "traceback": [
      "Error in auto.arima(arima_ts): impossible de trouver la fonction \"auto.arima\"\nTraceback:\n"
     ]
    }
   ],
   "source": [
    "# Estimate the parameters of the ARIMA model\n",
    "arima_fit <- auto.arima(arima_ts)\n",
    "\n",
    "# Print the model summary\n",
    "summary(arima_fit)"
   ]
  },
  {
   "cell_type": "markdown",
   "id": "428c2aba",
   "metadata": {},
   "source": [
    "### Forecast the future values"
   ]
  },
  {
   "cell_type": "code",
   "execution_count": null,
   "id": "05191d5e",
   "metadata": {},
   "outputs": [],
   "source": [
    "# Forecast the future values of the time series\n",
    "arima_fc <- forecast(arima_fit, h = 24)\n",
    "\n",
    "# Plot the forecasted values\n",
    "ggplot() +\n",
    "  geom_line(aes(x = index(arima_ts), y = arima_ts), color = \"blue\") +\n",
    "  geom_line(aes(x = index(arima_fc$mean), y = arima_fc$mean), color = \"red\") +\n",
    "  geom_ribbon(aes(x = index(arima_fc$mean), ymin = arima_fc$lower[, 2], ymax = arima_fc$upper[, 2]), alpha = 0.2) +\n",
    "labs(title = 'Forecasts',\n",
    "       subtitle = 'Simulated data',\n",
    "       y=\"forecasted series\", x=\"time\") +\n",
    "  theme(axis.text=element_text(size=8),\n",
    "        axis.title=element_text(size=8),\n",
    "        plot.subtitle=element_text(size=10, face=\"italic\", color=\"darkred\"),\n",
    "        panel.background = element_rect(fill = \"white\", colour = \"grey50\"),\n",
    "        panel.grid.major = element_line(colour = \"grey90\"))"
   ]
  },
  {
   "cell_type": "code",
   "execution_count": null,
   "id": "237574c6",
   "metadata": {},
   "outputs": [],
   "source": []
  },
  {
   "cell_type": "code",
   "execution_count": null,
   "id": "9522373e",
   "metadata": {},
   "outputs": [],
   "source": []
  },
  {
   "cell_type": "code",
   "execution_count": null,
   "id": "746ebd42",
   "metadata": {},
   "outputs": [],
   "source": []
  },
  {
   "cell_type": "code",
   "execution_count": null,
   "id": "36e51897",
   "metadata": {},
   "outputs": [],
   "source": []
  },
  {
   "cell_type": "code",
   "execution_count": null,
   "id": "5070154b",
   "metadata": {},
   "outputs": [],
   "source": []
  },
  {
   "cell_type": "code",
   "execution_count": null,
   "id": "128dde0b",
   "metadata": {},
   "outputs": [],
   "source": []
  },
  {
   "cell_type": "code",
   "execution_count": null,
   "id": "4e60ab8d",
   "metadata": {},
   "outputs": [],
   "source": []
  },
  {
   "cell_type": "code",
   "execution_count": null,
   "id": "47418a2f",
   "metadata": {},
   "outputs": [],
   "source": []
  }
 ],
 "metadata": {
  "kernelspec": {
   "display_name": "R",
   "language": "R",
   "name": "ir"
  },
  "language_info": {
   "codemirror_mode": "r",
   "file_extension": ".r",
   "mimetype": "text/x-r-source",
   "name": "R",
   "pygments_lexer": "r",
   "version": "3.6.1"
  }
 },
 "nbformat": 4,
 "nbformat_minor": 5
}
